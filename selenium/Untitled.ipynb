{
 "cells": [
  {
   "cell_type": "code",
   "execution_count": 1,
   "id": "e0caeb88",
   "metadata": {},
   "outputs": [],
   "source": [
    "from selenium import webdriver\n",
    "from selenium.webdriver.common.keys import Keys\n",
    "from selenium.webdriver.common.by import By"
   ]
  },
  {
   "cell_type": "code",
   "execution_count": 2,
   "id": "3369011b",
   "metadata": {},
   "outputs": [],
   "source": [
    "import chromedriver_binary"
   ]
  },
  {
   "cell_type": "code",
   "execution_count": 3,
   "id": "5c05d0d0",
   "metadata": {},
   "outputs": [],
   "source": [
    "from selenium.webdriver.support.ui import WebDriverWait\n",
    "from selenium.webdriver.support import expected_conditions as EC"
   ]
  },
  {
   "cell_type": "code",
   "execution_count": 4,
   "id": "6c033ee3",
   "metadata": {},
   "outputs": [],
   "source": [
    "import time"
   ]
  },
  {
   "cell_type": "code",
   "execution_count": 5,
   "id": "239e9410",
   "metadata": {},
   "outputs": [],
   "source": [
    "from bs4 import BeautifulSoup"
   ]
  },
  {
   "cell_type": "code",
   "execution_count": 6,
   "id": "3d75d080",
   "metadata": {},
   "outputs": [],
   "source": [
    "import os\n",
    "import urllib.request"
   ]
  },
  {
   "cell_type": "code",
   "execution_count": 7,
   "id": "b44f09fb",
   "metadata": {},
   "outputs": [],
   "source": [
    "driver = webdriver.Chrome()\n",
    "driver.get(\"https://aurousjewels.com/\")"
   ]
  },
  {
   "cell_type": "code",
   "execution_count": null,
   "id": "5302df07",
   "metadata": {},
   "outputs": [],
   "source": [
    "driver.close()"
   ]
  },
  {
   "cell_type": "code",
   "execution_count": null,
   "id": "675b298e",
   "metadata": {},
   "outputs": [],
   "source": [
    "home = driver.find_elements(By.TAG_NAME, \"img\")"
   ]
  },
  {
   "cell_type": "code",
   "execution_count": null,
   "id": "138aeb7e",
   "metadata": {},
   "outputs": [],
   "source": [
    "for h in home:\n",
    "    print(h.get_attribute(\"src\"))"
   ]
  },
  {
   "cell_type": "code",
   "execution_count": null,
   "id": "e32910d4",
   "metadata": {},
   "outputs": [],
   "source": []
  },
  {
   "cell_type": "code",
   "execution_count": null,
   "id": "025863c9",
   "metadata": {},
   "outputs": [],
   "source": [
    "catg = driver.get(\"https://aurousjewels.com/Category\")"
   ]
  },
  {
   "cell_type": "code",
   "execution_count": null,
   "id": "42d6dbed",
   "metadata": {},
   "outputs": [],
   "source": [
    "list_catg = driver.find_elements(By.CLASS_NAME, \"collection_div\")"
   ]
  },
  {
   "cell_type": "code",
   "execution_count": null,
   "id": "977ceb6b",
   "metadata": {},
   "outputs": [],
   "source": [
    "len(list_catg)"
   ]
  },
  {
   "cell_type": "code",
   "execution_count": null,
   "id": "b33c02ee",
   "metadata": {
    "scrolled": true
   },
   "outputs": [],
   "source": [
    "for lc in list_catg:\n",
    "    lc.click()\n",
    "    element = WebDriverWait(driver, 10).until(EC.visibility_of_element_located((By.CLASS_NAME, \"collection_div\")))\n",
    "    print(element)\n",
    "    listcatg = driver.find_elements(By.CLASS_NAME, \"collection_div\")\n",
    "    for lg in listcatg:\n",
    "        a = lg.find_elements(By.TAG_NAME, \"a\")\n",
    "        a[0].click()\n",
    "        element = WebDriverWait(driver, 10).until(EC.visibility_of_element_located((By.CLASS_NAME, \"jewellery_div\")))\n",
    "        jewellery_div = driver.find_elements(By.CLASS_NAME, \"jewellery_div\")\n",
    "        for jd in jewellery_div:\n",
    "            a = jd.find_elements(By.TAG_NAME, \"a\")\n",
    "            a[0].click()\n",
    "        break\n",
    "    break"
   ]
  },
  {
   "cell_type": "code",
   "execution_count": null,
   "id": "29bb2e36",
   "metadata": {},
   "outputs": [],
   "source": [
    "lc = driver.find_elements(By.CLASS_NAME, \"collection_div\")"
   ]
  },
  {
   "cell_type": "code",
   "execution_count": null,
   "id": "b221ae9e",
   "metadata": {},
   "outputs": [],
   "source": [
    "len(lc)"
   ]
  },
  {
   "cell_type": "code",
   "execution_count": null,
   "id": "49df44fa",
   "metadata": {},
   "outputs": [],
   "source": [
    "driver.get(\"https://aurousjewels.com/JewelleryList\")"
   ]
  },
  {
   "cell_type": "code",
   "execution_count": null,
   "id": "58ab8b04",
   "metadata": {},
   "outputs": [],
   "source": [
    "jewellery_div = driver.find_elements(By.CLASS_NAME, \"jewellery_div\")"
   ]
  },
  {
   "cell_type": "code",
   "execution_count": null,
   "id": "bd9a1394",
   "metadata": {},
   "outputs": [],
   "source": [
    "len(jewellery_div)"
   ]
  },
  {
   "cell_type": "code",
   "execution_count": null,
   "id": "317d010e",
   "metadata": {},
   "outputs": [],
   "source": [
    "jewellery_div[0].click()\n",
    "element = WebDriverWait(driver, 10).until(EC.visibility_of_element_located((By.TAG_NAME, \"form\")))\n",
    "elem = element.get_attribute('innerHTML')"
   ]
  },
  {
   "cell_type": "code",
   "execution_count": null,
   "id": "28068572",
   "metadata": {},
   "outputs": [],
   "source": [
    "elem"
   ]
  },
  {
   "cell_type": "code",
   "execution_count": null,
   "id": "07b4dccd",
   "metadata": {},
   "outputs": [],
   "source": []
  },
  {
   "cell_type": "code",
   "execution_count": null,
   "id": "c905ed93",
   "metadata": {},
   "outputs": [],
   "source": [
    "soup = BeautifulSoup(elem)"
   ]
  },
  {
   "cell_type": "code",
   "execution_count": null,
   "id": "ce5ad730",
   "metadata": {
    "scrolled": true
   },
   "outputs": [],
   "source": [
    "print(soup.prettify())"
   ]
  },
  {
   "cell_type": "code",
   "execution_count": null,
   "id": "ab72c833",
   "metadata": {},
   "outputs": [],
   "source": [
    "img_tags = soup.find_all('img')"
   ]
  },
  {
   "cell_type": "code",
   "execution_count": null,
   "id": "02659bc3",
   "metadata": {
    "scrolled": true
   },
   "outputs": [],
   "source": [
    "img_tags"
   ]
  },
  {
   "cell_type": "code",
   "execution_count": 19,
   "id": "386ae4f1",
   "metadata": {},
   "outputs": [],
   "source": [
    "pages = []"
   ]
  },
  {
   "cell_type": "code",
   "execution_count": 9,
   "id": "2de1adc8",
   "metadata": {},
   "outputs": [],
   "source": [
    "def get_elems():\n",
    "    for i in range(0,10):\n",
    "        elem = driver.find_element(By.CLASS_NAME, \"jewellery_detail_section\")\n",
    "        elem = elem.get_attribute('innerHTML')\n",
    "        if len(elem) > 7000:\n",
    "            return elem\n",
    "        time.sleep(0.2)\n",
    "    elem = driver.find_element(By.CLASS_NAME, \"jewellery_detail_section\")\n",
    "    print(\"attempt failed elem length less then 7k\")\n",
    "    return elem.get_attribute('innerHTML')"
   ]
  },
  {
   "cell_type": "code",
   "execution_count": 13,
   "id": "07007309",
   "metadata": {},
   "outputs": [],
   "source": [
    "def tryclick(elem):\n",
    "    attempts = 0\n",
    "    while True:\n",
    "        try:\n",
    "            elem.click()\n",
    "            return False\n",
    "        except:\n",
    "            time.sleep(0.2)\n",
    "            attempts += 1\n",
    "            if attempts > 15:\n",
    "                print(\"attempts failed\")\n",
    "                return False"
   ]
  },
  {
   "cell_type": "code",
   "execution_count": null,
   "id": "fa544c2e",
   "metadata": {
    "scrolled": true
   },
   "outputs": [],
   "source": [
    "def loop_capture(url, catg_num):\n",
    "    for i in range(0,12):\n",
    "        capture(i, url, catg_num)"
   ]
  },
  {
   "cell_type": "code",
   "execution_count": 10,
   "id": "9eec53d6",
   "metadata": {},
   "outputs": [],
   "source": [
    "def go_to_items(url, catg_num):\n",
    "    driver.get(url)\n",
    "    element = WebDriverWait(driver, 10).until(EC.visibility_of_element_located((By.CLASS_NAME, \"collection_div\")))\n",
    "    collection_div = driver.find_elements(By.CLASS_NAME, \"collection_div\")\n",
    "    tryclick(collection_div[catg_num])"
   ]
  },
  {
   "cell_type": "code",
   "execution_count": 18,
   "id": "411476de",
   "metadata": {},
   "outputs": [],
   "source": [
    "def loop_capture2(url, catg_num):\n",
    "    loops1 = 0\n",
    "    while True:\n",
    "        go_to_items(url, catg_num)\n",
    "        try:\n",
    "            element = WebDriverWait(driver, 10).until(EC.visibility_of_element_located((By.CLASS_NAME, \"jewellery_div\")))\n",
    "        except:\n",
    "            print(\"retrying jewellery_div visibility\")\n",
    "            go_to_items(url, catg_num)\n",
    "            element = WebDriverWait(driver, 10).until(EC.visibility_of_element_located((By.CLASS_NAME, \"jewellery_div\")))\n",
    "        jewellery_div = driver.find_elements(By.CLASS_NAME, \"jewellery_div\")\n",
    "        print(\"length of jewellery_div\", len(jewellery_div))\n",
    "        counter = 0\n",
    "        loops2 = 0\n",
    "        while True:\n",
    "            try:\n",
    "                print(counter)\n",
    "                jewellery_div[counter].click()\n",
    "                element = WebDriverWait(driver, 10).until(EC.visibility_of_element_located((By.CLASS_NAME, \"jewellery_detail_section\")))\n",
    "                elem = get_elems()\n",
    "                print(len(elem))\n",
    "                pages.append(elem)\n",
    "                print(\"captured\")\n",
    "                counter += 1\n",
    "                loops3 = 0\n",
    "                while True:\n",
    "                    if driver.current_url == \"https://aurousjewels.com/Home\":\n",
    "                        time.sleep(0.5)\n",
    "                        driver.execute_script(\"window.history.go(-2)\")\n",
    "                        break\n",
    "                    time.sleep(0.2)\n",
    "                    loops3 += 1\n",
    "                    if loops3 > 30:\n",
    "                        print(\"Too many attempts\")\n",
    "                        return False\n",
    "                print(\"\")\n",
    "            except:\n",
    "                print(\"retrying capture\")\n",
    "            if len(jewellery_div) == counter:\n",
    "                if nextpage():\n",
    "                    print(\"continuing loop for next page\")\n",
    "                else:\n",
    "                    return False\n",
    "            loops2 += 1\n",
    "            if loops2 > 30:\n",
    "                print(\"Too many attempts\")\n",
    "                return False\n",
    "        loops1 += 1\n",
    "        if loops1 > 30:\n",
    "            print(\"Too many attempts\")\n",
    "            return False\n",
    "        return False"
   ]
  },
  {
   "cell_type": "code",
   "execution_count": 21,
   "id": "18fdafb7",
   "metadata": {},
   "outputs": [
    {
     "data": {
      "text/plain": [
       "'Style Code : BR0134\\nNet Wt : 1.080 gm'"
      ]
     },
     "execution_count": 21,
     "metadata": {},
     "output_type": "execute_result"
    }
   ],
   "source": [
    "jewellery_div = driver.find_elements(By.CLASS_NAME, \"jewellery_div\")\n",
    "jewellery_div[0].text"
   ]
  },
  {
   "cell_type": "code",
   "execution_count": 17,
   "id": "a919e49f",
   "metadata": {},
   "outputs": [
    {
     "name": "stdout",
     "output_type": "stream",
     "text": [
      "length of jewellery_div 12\n",
      "11\n",
      "16857\n",
      "captured\n",
      "\n",
      "continuing loop for next page\n",
      "12\n",
      "retrying capture\n",
      "no next page\n"
     ]
    },
    {
     "data": {
      "text/plain": [
       "False"
      ]
     },
     "execution_count": 17,
     "metadata": {},
     "output_type": "execute_result"
    }
   ],
   "source": [
    "loop_capture2('https://aurousjewels.com/Jewellery/Baby-Ring', 0)"
   ]
  },
  {
   "cell_type": "code",
   "execution_count": null,
   "id": "9c577918",
   "metadata": {},
   "outputs": [],
   "source": [
    "def capture(i, url, catg_num):\n",
    "    driver.get(url)\n",
    "    element = WebDriverWait(driver, 10).until(EC.visibility_of_element_located((By.CLASS_NAME, \"collection_div\")))\n",
    "    time.sleep(0.5)\n",
    "    collection_div = driver.find_elements(By.CLASS_NAME, \"collection_div\")\n",
    "    tryclick(collection_div[catg_num])\n",
    "\n",
    "#     Pages\n",
    "#         nextpage()\n",
    "\n",
    "    time.sleep(1)\n",
    "    element = WebDriverWait(driver, 10).until(EC.visibility_of_element_located((By.CLASS_NAME, \"jewellery_div\")))\n",
    "    time.sleep(0.5)\n",
    "    jewellery_div = driver.find_elements(By.CLASS_NAME, \"jewellery_div\")\n",
    "    time.sleep(0.5)\n",
    "    if i == 0:\n",
    "        print(\"length of jewellery_div\", len(jewellery_div))\n",
    "    if i == len(jewellery_div):\n",
    "        break\n",
    "    print(i)\n",
    "    try:\n",
    "        jewellery_div[i].click()\n",
    "    except:\n",
    "        jewellery_div = driver.find_elements(By.CLASS_NAME, \"jewellery_div\")\n",
    "        jewellery_div[i].click()\n",
    "#         tryclick(jewellery_div[i])\n",
    "    element = WebDriverWait(driver, 10).until(EC.visibility_of_element_located((By.CLASS_NAME, \"jewellery_detail_section\")))\n",
    "    elem = get_elems()\n",
    "    print(len(elem))\n",
    "    pages.append(elem)\n",
    "    print(\"captured\")\n",
    "    time.sleep(5)"
   ]
  },
  {
   "cell_type": "code",
   "execution_count": null,
   "id": "f154a6d1",
   "metadata": {},
   "outputs": [],
   "source": [
    "loop_capture(\"https://aurousjewels.com/Jewellery/Ladies-Kada\", 1)"
   ]
  },
  {
   "cell_type": "code",
   "execution_count": null,
   "id": "ab09c753",
   "metadata": {},
   "outputs": [],
   "source": [
    "driver.get(\"https://aurousjewels.com/Jewellery/Ladies-Kada\")\n",
    "element = WebDriverWait(driver, 10).until(EC.visibility_of_element_located((By.CLASS_NAME, \"collection_div\")))\n",
    "time.sleep(0.5)\n",
    "collection_div = driver.find_elements(By.CLASS_NAME, \"collection_div\")\n",
    "try:\n",
    "    collection_div[1].click()\n",
    "except:\n",
    "    time.sleep(0.5)\n",
    "    collection_div[1].click()\n",
    "time.sleep(0.5)\n",
    "element = WebDriverWait(driver, 10).until(EC.visibility_of_element_located((By.CLASS_NAME, \"jewellery_div\")))\n",
    "time.sleep(1)\n",
    "jewellery_div = driver.find_elements(By.CLASS_NAME, \"jewellery_div\")\n",
    "print(len(jewellery_div))\n",
    "print(4)\n",
    "jewellery_div[4].click()\n",
    "element = WebDriverWait(driver, 10).until(EC.visibility_of_element_located((By.CLASS_NAME, \"jewellery_detail_section\")))\n",
    "elem = get_elems()\n",
    "print(len(elem))\n",
    "page4 = elem\n",
    "print(\"captured\")\n",
    "time.sleep(5)"
   ]
  },
  {
   "cell_type": "code",
   "execution_count": null,
   "id": "c2d41ea0",
   "metadata": {},
   "outputs": [],
   "source": [
    "1. list of catg\n",
    "2. list of sub catg\n",
    "3. list of item pages\n",
    "4. list of items"
   ]
  },
  {
   "cell_type": "code",
   "execution_count": 15,
   "id": "14351a5c",
   "metadata": {
    "scrolled": true
   },
   "outputs": [],
   "source": [
    "def nextpage():\n",
    "    element = WebDriverWait(driver, 10).until(EC.visibility_of_element_located((By.CLASS_NAME, \"pagination\")))\n",
    "    pagination = driver.find_element(By.CLASS_NAME, \"pagination\")\n",
    "    pages = pagination.find_elements(By.TAG_NAME, \"li\")\n",
    "    if 'disabled' in pages[-2].get_attribute('class').split():\n",
    "        print(\"no next page\")\n",
    "        return False\n",
    "    else:\n",
    "        nextpage = pages[-2].find_element(By.TAG_NAME, \"a\")\n",
    "        nextpage.click()\n",
    "        return True"
   ]
  },
  {
   "cell_type": "code",
   "execution_count": null,
   "id": "22e82bbe",
   "metadata": {},
   "outputs": [],
   "source": [
    "def gotopage(url):\n",
    "    driver.get(url)"
   ]
  },
  {
   "cell_type": "code",
   "execution_count": null,
   "id": "5a097ef0",
   "metadata": {},
   "outputs": [],
   "source": []
  },
  {
   "cell_type": "code",
   "execution_count": null,
   "id": "4688e9d1",
   "metadata": {},
   "outputs": [],
   "source": [
    "urls = []\n",
    "def get_all_catg():\n",
    "    driver.get(\"https://aurousjewels.com/Category\")\n",
    "    time.sleep(0.5)\n",
    "    element = WebDriverWait(driver, 10).until(EC.visibility_of_element_located((By.CLASS_NAME, \"collection_sec\")))\n",
    "    catgs = driver.find_element(By.CLASS_NAME, \"collection_sec\")\n",
    "    tags = catgs.find_elements(By.TAG_NAME, \"a\")\n",
    "    print(len(tags))\n",
    "    for t in tags:\n",
    "        urls.append(t.get_attribute('href'))\n",
    "    return urls"
   ]
  },
  {
   "cell_type": "code",
   "execution_count": null,
   "id": "fddb6d28",
   "metadata": {},
   "outputs": [],
   "source": [
    "get_all_catg()"
   ]
  },
  {
   "cell_type": "code",
   "execution_count": null,
   "id": "4a559604",
   "metadata": {},
   "outputs": [],
   "source": []
  },
  {
   "cell_type": "code",
   "execution_count": null,
   "id": "d6f808fa",
   "metadata": {},
   "outputs": [],
   "source": [
    "for i, u in enumerate(urls):\n",
    "    driver.get(u)\n",
    "    # get sub catg list and loop collection_sec\n",
    "    collection_div = collection_div()\n",
    "    \n",
    "    num = 0\n",
    "    while True:\n",
    "        try:\n",
    "            collection_div[num].click()\n",
    "        except:\n",
    "            time.sleep(0.5)\n",
    "            collection_div[num].click()\n",
    "        element = WebDriverWait(driver, 10).until(EC.visibility_of_element_located((By.CLASS_NAME, \"collection_div\")))"
   ]
  },
  {
   "cell_type": "code",
   "execution_count": null,
   "id": "4719da41",
   "metadata": {},
   "outputs": [],
   "source": [
    "def collection_div():\n",
    "    element = WebDriverWait(driver, 10).until(EC.visibility_of_element_located((By.CLASS_NAME, \"collection_div\")))\n",
    "    collection_div = driver.find_elements(By.CLASS_NAME, \"collection_div\")\n",
    "    return collection_div"
   ]
  },
  {
   "cell_type": "code",
   "execution_count": null,
   "id": "c6d699fe",
   "metadata": {},
   "outputs": [],
   "source": [
    "jewellery_div = driver.find_elements(By.CLASS_NAME, \"jewellery_div\")"
   ]
  },
  {
   "cell_type": "code",
   "execution_count": null,
   "id": "1f0b4ef8",
   "metadata": {},
   "outputs": [],
   "source": [
    "jewellery_div[0].click()"
   ]
  },
  {
   "cell_type": "code",
   "execution_count": null,
   "id": "36d51cdb",
   "metadata": {},
   "outputs": [],
   "source": []
  },
  {
   "cell_type": "code",
   "execution_count": null,
   "id": "a4ef3eb8",
   "metadata": {},
   "outputs": [],
   "source": [
    "pages"
   ]
  },
  {
   "cell_type": "code",
   "execution_count": null,
   "id": "c2618bf1",
   "metadata": {},
   "outputs": [],
   "source": [
    "len(page0)"
   ]
  },
  {
   "cell_type": "code",
   "execution_count": null,
   "id": "ac2fb92c",
   "metadata": {},
   "outputs": [],
   "source": [
    "len(pages[8:])"
   ]
  },
  {
   "cell_type": "code",
   "execution_count": null,
   "id": "d05dfc0b",
   "metadata": {},
   "outputs": [],
   "source": []
  },
  {
   "cell_type": "code",
   "execution_count": null,
   "id": "1486a2d8",
   "metadata": {},
   "outputs": [],
   "source": []
  },
  {
   "cell_type": "code",
   "execution_count": null,
   "id": "99f99ba0",
   "metadata": {},
   "outputs": [],
   "source": [
    "soup = BeautifulSoup(pages[0])\n",
    "soup.find_all('img')"
   ]
  },
  {
   "cell_type": "code",
   "execution_count": null,
   "id": "856e424b",
   "metadata": {},
   "outputs": [],
   "source": [
    "pages[3]"
   ]
  },
  {
   "cell_type": "code",
   "execution_count": null,
   "id": "95a1294d",
   "metadata": {},
   "outputs": [],
   "source": [
    "image_list = []"
   ]
  },
  {
   "cell_type": "code",
   "execution_count": null,
   "id": "ae47ba1c",
   "metadata": {},
   "outputs": [],
   "source": [
    "def ext_img_link():\n",
    "    for i, n in enumerate(pages):\n",
    "        soup = BeautifulSoup(n)\n",
    "        sty = soup.find_all('img')\n",
    "        print(i)\n",
    "        img = []\n",
    "        for s in sty:\n",
    "            f = str(s).find(\"StyleImages\")\n",
    "            if f != -1:\n",
    "                x = str(s).split(\"/StyleImages\")\n",
    "                y = x[1].split(\"?\")[0]\n",
    "                styleimg = \"https://aurousjewels.com/StyleImages\" + y\n",
    "                if styleimg in img:\n",
    "                    pass\n",
    "                else:\n",
    "                    img.append(styleimg)\n",
    "        image_list.append(img)\n",
    "        ximg = \"\\n\".join(img)\n",
    "        print(ximg)\n"
   ]
  },
  {
   "cell_type": "code",
   "execution_count": null,
   "id": "7de75375",
   "metadata": {},
   "outputs": [],
   "source": [
    "# image_list.append([])\n",
    "soup = BeautifulSoup(page4)\n",
    "sty = soup.find_all('img')\n",
    "for s in sty:\n",
    "    f = str(s).find(\"StyleImages\")\n",
    "    if f != -1:\n",
    "        x = str(s).split(\"/StyleImages\")\n",
    "        y = x[1].split(\"?\")[0]\n",
    "        styleimg = \"https://aurousjewels.com/StyleImages\" + y\n",
    "        if styleimg in image_list[4]:\n",
    "            pass\n",
    "        else:\n",
    "            image_list[4].append(styleimg)\n",
    "# ximg = \"\\n\".join(img)\n",
    "# print(ximg)\n",
    "            "
   ]
  },
  {
   "cell_type": "code",
   "execution_count": null,
   "id": "0ff78cfa",
   "metadata": {},
   "outputs": [],
   "source": [
    "image_list[0][0].split(\".\")[-1]"
   ]
  },
  {
   "cell_type": "code",
   "execution_count": null,
   "id": "7a9cd5d7",
   "metadata": {},
   "outputs": [],
   "source": [
    "image_list[4]"
   ]
  },
  {
   "cell_type": "code",
   "execution_count": null,
   "id": "22cb787f",
   "metadata": {},
   "outputs": [],
   "source": [
    "image_list"
   ]
  },
  {
   "cell_type": "code",
   "execution_count": null,
   "id": "370b5703",
   "metadata": {},
   "outputs": [],
   "source": []
  },
  {
   "cell_type": "code",
   "execution_count": null,
   "id": "66046be0",
   "metadata": {},
   "outputs": [],
   "source": [
    "urllib.request.urlretrieve(image_list[11][0], \"C:/Users/Lenovo/Desktop/Musab/selenium/image/babyring/12_1.jpg\")"
   ]
  },
  {
   "cell_type": "code",
   "execution_count": null,
   "id": "0dcc762e",
   "metadata": {},
   "outputs": [],
   "source": [
    "def check_dir(path, catg):\n",
    "    cat = catg.split(\"/\")\n",
    "    filename = path + cat[0]\n",
    "    if not os.path.exists(filename):\n",
    "        os.makedirs(filename)\n",
    "        print(\"created folder\")\n",
    "    filename = path + cat[0] + \"/\" + cat[1]\n",
    "    if not os.path.exists(filename):\n",
    "        os.makedirs(filename)\n",
    "        print(\"created folder\")"
   ]
  },
  {
   "cell_type": "code",
   "execution_count": null,
   "id": "e85ba1f4",
   "metadata": {},
   "outputs": [],
   "source": [
    "def save_images(path, catg):# path, catg_name\n",
    "    ix = 0\n",
    "    check_dir(path, catg)\n",
    "    for i, il in enumerate(image_list):\n",
    "        for ii, l in enumerate(il):\n",
    "            name = str(i + 1 + ix) + \"_\" + str(ii + 1)\n",
    "            ext = l.split(\".\")[-1]\n",
    "            urllib.request.urlretrieve(l, \"{path}{catg}{name}.{ext}\".format(path=path,catg=catg,name=name,ext=ext))"
   ]
  },
  {
   "cell_type": "code",
   "execution_count": null,
   "id": "f75343ac",
   "metadata": {},
   "outputs": [],
   "source": []
  },
  {
   "cell_type": "code",
   "execution_count": null,
   "id": "5c36c450",
   "metadata": {},
   "outputs": [],
   "source": []
  },
  {
   "cell_type": "code",
   "execution_count": null,
   "id": "c4a5756f",
   "metadata": {},
   "outputs": [],
   "source": [
    "pages = []\n",
    "loop_capture(\"https://aurousjewels.com/Jewellery/Ladies-Kada\", 4)\n",
    "print(\"#########COMPLETED##########\")"
   ]
  },
  {
   "cell_type": "code",
   "execution_count": null,
   "id": "9904c50e",
   "metadata": {},
   "outputs": [],
   "source": [
    "image_list = []\n",
    "ext_img_link()"
   ]
  },
  {
   "cell_type": "code",
   "execution_count": null,
   "id": "6a96e28b",
   "metadata": {},
   "outputs": [],
   "source": [
    "save_images(\"C:/Users/Lenovo/Desktop/Musab/selenium/image/\", \"Ladies-Kada/peacock/\")"
   ]
  },
  {
   "cell_type": "code",
   "execution_count": null,
   "id": "fc92d951",
   "metadata": {},
   "outputs": [],
   "source": []
  },
  {
   "cell_type": "code",
   "execution_count": null,
   "id": "0cff86e4",
   "metadata": {},
   "outputs": [],
   "source": []
  },
  {
   "cell_type": "code",
   "execution_count": null,
   "id": "396cf3e1",
   "metadata": {},
   "outputs": [],
   "source": [
    "urls"
   ]
  },
  {
   "cell_type": "code",
   "execution_count": null,
   "id": "fe4e8367",
   "metadata": {},
   "outputs": [],
   "source": [
    "urls = get_all_catg()"
   ]
  },
  {
   "cell_type": "code",
   "execution_count": null,
   "id": "2ca0bbe7",
   "metadata": {},
   "outputs": [],
   "source": [
    "\n",
    "for url in urls:\n",
    "    #get all sub catg\n",
    "    driver.get(url)\n",
    "    break\n",
    "    for catg in catgs:\n",
    "        #get all items\n",
    "        for page in pages:\n",
    "            #get all items\n",
    "            for item in items:\n",
    "            "
   ]
  },
  {
   "cell_type": "code",
   "execution_count": null,
   "id": "4ad80dff",
   "metadata": {},
   "outputs": [],
   "source": []
  },
  {
   "cell_type": "code",
   "execution_count": null,
   "id": "cda9b911",
   "metadata": {},
   "outputs": [],
   "source": []
  }
 ],
 "metadata": {
  "kernelspec": {
   "display_name": "Python 3 (ipykernel)",
   "language": "python",
   "name": "python3"
  },
  "language_info": {
   "codemirror_mode": {
    "name": "ipython",
    "version": 3
   },
   "file_extension": ".py",
   "mimetype": "text/x-python",
   "name": "python",
   "nbconvert_exporter": "python",
   "pygments_lexer": "ipython3",
   "version": "3.11.1"
  }
 },
 "nbformat": 4,
 "nbformat_minor": 5
}
